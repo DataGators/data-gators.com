{
  "nbformat": 4,
  "nbformat_minor": 0,
  "metadata": {
    "colab": {
      "provenance": []
    },
    "kernelspec": {
      "name": "ir",
      "display_name": "R"
    },
    "language_info": {
      "name": "R"
    }
  },
  "cells": [
    {
      "cell_type": "markdown",
      "source": [
        "# Data Cleaning and Visualization in R: A Beginner's Tutorial\n",
        "\n",
        "This Jupyter Notebook demonstrates how to clean a large dataset and create basic visualizations in R. We will use the `nycflights13::flights` dataset as an example. The tutorial covers:\n",
        "\n",
        "- Handling missing values (e.g., using `na.omit()`, `ifelse()`, or `replace_na()` to deal with NAs)\n",
        "- Removing duplicate rows (using `dplyr::distinct()`)\n",
        "- Fixing formatting issues (converting column types and renaming columns for clarity)\n",
        "\n",
        "After cleaning the data, we'll create visualizations with **ggplot2** (scatter plot, histogram, boxplot, and a line chart) to explore the data.\n"
      ],
      "metadata": {
        "id": "r4hkKdlHB540"
      }
    },
    {
      "cell_type": "code",
      "source": [
        "# Install necessary packages if they're not already installed\n",
        "install.packages(\"nycflights13\")\n",
        "install.packages(\"dplyr\")\n",
        "install.packages(\"tidyr\")\n",
        "install.packages(\"ggplot2\")\n",
        "\n",
        "\n",
        "# Load the necessary libraries\n",
        "library(nycflights13)\n",
        "library(dplyr)\n",
        "library(tidyr)\n",
        "library(ggplot2)\n",
        "\n",
        "# Load the flights dataset\n",
        "data(\"flights\")  # flights data from nycflights13\n",
        "\n",
        "# Check the size of the data (rows and columns)\n",
        "dim(flights)\n",
        "\n",
        "# Preview the first few rows\n",
        "head(flights)"
      ],
      "metadata": {
        "id": "DHOdx4M_CFAe"
      },
      "execution_count": null,
      "outputs": []
    },
    {
      "cell_type": "markdown",
      "source": [
        "## Handling Missing Values\n",
        "\n",
        "Let's identify missing values in the dataset and apply techniques to handle them. In R, missing data is represented by `NA`. We will:\n",
        "- Count the number of missing values in key columns (departure and arrival delays).\n",
        "- Remove rows with missing data using `na.omit()`.\n",
        "- Fill missing values with a placeholder using `replace_na()`."
      ],
      "metadata": {
        "id": "zTQqTrZOCJX5"
      }
    },
    {
      "cell_type": "code",
      "source": [
        "# Count missing values in departure and arrival delay columns\n",
        "sum(is.na(flights$dep_delay))  # number of NAs in departure delays\n",
        "sum(is.na(flights$arr_delay))  # number of NAs in arrival delays\n",
        "\n",
        "# Remove rows with any missing values\n",
        "flights_no_na <- na.omit(flights)\n",
        "dim(flights_no_na)  # dimensions after dropping NAs"
      ],
      "metadata": {
        "id": "t1ESS3_gCLx9"
      },
      "execution_count": null,
      "outputs": []
    },
    {
      "cell_type": "code",
      "source": [
        "# Replace missing delay values with 0 (assuming missing means no delay)\n",
        "flights_filled <- flights %>%\n",
        "  replace_na(list(dep_delay = 0, arr_delay = 0))\n",
        "\n",
        "# Check that missing values in delays are handled\n",
        "sum(is.na(flights_filled$dep_delay))  # should be 0 after replacement\n",
        "sum(is.na(flights_filled$arr_delay))  # should also be 0\n"
      ],
      "metadata": {
        "id": "a8BjvTBnCNL1"
      },
      "execution_count": null,
      "outputs": []
    },
    {
      "cell_type": "markdown",
      "source": [
        "## Removing Duplicates\n",
        "\n",
        "Duplicate rows can skew analysis. We'll use `distinct()` from dplyr to remove any duplicate flight entries (if present). First, let's check if there are any duplicates."
      ],
      "metadata": {
        "id": "9dlchljoCQDi"
      }
    },
    {
      "cell_type": "code",
      "source": [
        "# Compare number of rows before and after using distinct()\n",
        "nrow(flights)           # original number of rows\n",
        "nrow(distinct(flights)) # number of rows after removing duplicates"
      ],
      "metadata": {
        "id": "3xPC4-8yCQsx"
      },
      "execution_count": null,
      "outputs": []
    },
    {
      "cell_type": "markdown",
      "source": [
        "## Formatting and Consistency\n",
        "\n",
        "Now we'll clean up column names and data types for consistency and clarity. We will:\n",
        "- Remove canceled flights (where `dep_time` is NA).\n",
        "- Add airline names by joining with the `airlines` dataset.\n",
        "- Rename columns for clarity (e.g., change `carrier` to `carrier_code` and `name` to `airline_name`).\n",
        "- Convert columns such as `origin`, `dest`, and `carrier_code` to factors."
      ],
      "metadata": {
        "id": "LHFPLsxJCS_y"
      }
    },
    {
      "cell_type": "code",
      "source": [
        "# Remove canceled flights (where dep_time is NA) to focus on flights that actually flew\n",
        "flights_clean <- flights %>%\n",
        "  filter(!is.na(dep_time)) %>%\n",
        "  # Add airline names by joining with the airlines dataset on carrier code\n",
        "  left_join(airlines, by = \"carrier\") %>%\n",
        "  # Rename columns for clarity\n",
        "  rename(airline_name = name, carrier_code = carrier) %>%\n",
        "  # Convert columns to factors for consistency\n",
        "  mutate(\n",
        "    origin = factor(origin),\n",
        "    dest = factor(dest),\n",
        "    carrier_code = factor(carrier_code)\n",
        "  )\n",
        "\n",
        "# Preview the cleaned data\n",
        "head(flights_clean)"
      ],
      "metadata": {
        "id": "HTwbWcKCCTlC"
      },
      "execution_count": null,
      "outputs": []
    },
    {
      "cell_type": "markdown",
      "source": [
        "## Data Visualization\n",
        "\n",
        "With the cleaned data (`flights_clean`), we can now create several plots to explore it. We'll build:\n",
        "- A scatter plot of departure delay vs. arrival delay.\n",
        "- A histogram of departure delays.\n",
        "- A boxplot of arrival delays by origin airport.\n",
        "- A line chart showing the number of flights per month."
      ],
      "metadata": {
        "id": "Q0lxedAtCXCd"
      }
    },
    {
      "cell_type": "markdown",
      "source": [
        "### Scatter Plot: Departure Delay vs Arrival Delay\n",
        "\n",
        "This scatter plot shows the relationship between departure delays and arrival delays. Each point represents a flight, and we expect a positive trend (flights that depart late tend to arrive late)."
      ],
      "metadata": {
        "id": "BDJhqtgkCX4F"
      }
    },
    {
      "cell_type": "code",
      "source": [
        "# Scatter plot of departure delay vs arrival delay\n",
        "ggplot(flights_clean, aes(x = dep_delay, y = arr_delay)) +\n",
        "  geom_point(alpha = 0.2) +\n",
        "  labs(title = \"Departure vs. Arrival Delay\",\n",
        "       x = \"Departure Delay (minutes)\",\n",
        "       y = \"Arrival Delay (minutes)\")"
      ],
      "metadata": {
        "id": "XGJoHOLCCZRT"
      },
      "execution_count": null,
      "outputs": []
    },
    {
      "cell_type": "markdown",
      "source": [
        "### Histogram: Distribution of Departure Delays\n",
        "\n",
        "This histogram visualizes how departure delays are distributed across all flights. Notice the concentration of flights with small or zero delays."
      ],
      "metadata": {
        "id": "TAj4VAhjCbFd"
      }
    },
    {
      "cell_type": "code",
      "source": [
        "# Histogram of departure delays\n",
        "ggplot(flights_clean, aes(x = dep_delay)) +\n",
        "  geom_histogram(binwidth = 15, fill = \"skyblue\", color = \"black\") +\n",
        "  labs(title = \"Distribution of Departure Delays\",\n",
        "       x = \"Departure Delay (minutes)\",\n",
        "       y = \"Number of Flights\")"
      ],
      "metadata": {
        "id": "e3ZMwO0vCdun"
      },
      "execution_count": null,
      "outputs": []
    },
    {
      "cell_type": "markdown",
      "source": [
        "### Boxplot: Arrival Delays by Origin Airport\n",
        "\n",
        "This boxplot compares the distribution of arrival delays for each of the NYC area airports. It helps identify which airport may have more variability or higher delays.\n"
      ],
      "metadata": {
        "id": "fL5caAMHCfBh"
      }
    },
    {
      "cell_type": "code",
      "source": [
        "# Boxplot of arrival delays by origin airport\n",
        "ggplot(flights_clean, aes(x = origin, y = arr_delay)) +\n",
        "  geom_boxplot(fill = \"orange\") +\n",
        "  labs(title = \"Arrival Delays by Origin Airport\",\n",
        "       x = \"Origin Airport\",\n",
        "       y = \"Arrival Delay (minutes)\")\n"
      ],
      "metadata": {
        "id": "039Hf5WkCfhB"
      },
      "execution_count": null,
      "outputs": []
    },
    {
      "cell_type": "markdown",
      "source": [
        "### Line Chart: Number of Flights per Month\n",
        "\n",
        "This line chart shows the trend of flight frequency over the months of the year. We group flights by month and count them to see seasonal variations in flight traffic."
      ],
      "metadata": {
        "id": "jr-ZODL0CiOD"
      }
    },
    {
      "cell_type": "code",
      "source": [
        "# Line chart of number of flights each month\n",
        "flights_per_month <- flights_clean %>%\n",
        "  count(month)\n",
        "\n",
        "ggplot(flights_per_month, aes(x = month, y = n)) +\n",
        "  geom_line(color = \"blue\") +\n",
        "  geom_point() +\n",
        "  labs(title = \"Flights per Month (2013)\",\n",
        "       x = \"Month\",\n",
        "       y = \"Number of Flights\")"
      ],
      "metadata": {
        "id": "v9zNMFQKCizg"
      },
      "execution_count": null,
      "outputs": []
    },
    {
      "cell_type": "markdown",
      "source": [
        "## Conclusion\n",
        "\n",
        "In this notebook, we cleaned a large dataset and then visualized it to uncover patterns. We:\n",
        "- Handled missing values by either removing or filling them.\n",
        "- Checked for duplicate rows (none were found in this dataset).\n",
        "- Renamed columns and adjusted data types for clarity.\n",
        "- Created various plots (scatter, histogram, boxplot, and line chart) to explore relationships, distributions, and trends.\n",
        "\n",
        "These steps form a solid foundation for data cleaning and analysis. Happy analyzing!"
      ],
      "metadata": {
        "id": "QW7HF0xRClqX"
      }
    }
  ]
}