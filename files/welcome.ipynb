{
 "cells": [
  {
   "cell_type": "markdown",
   "id": "bd68701d",
   "metadata": {},
   "source": [
    "# Welcome to DataGators JupyterLite!\n",
    "\n",
    "This is a sample notebook to get you started. You can:\n",
    "\n",
    "- Write and run Python code\n",
    "- Create visualizations\n",
    "- Analyze data\n",
    "- And much more!\n",
    "\n",
    "Try running the code cell below:"
   ]
  },
  {
   "cell_type": "code",
   "execution_count": null,
   "id": "111c27ed",
   "metadata": {},
   "outputs": [],
   "source": [
    "import numpy as np\n",
    "import matplotlib.pyplot as plt\n",
    "\n",
    "# Create some sample data\n",
    "x = np.linspace(0, 2*np.pi, 100)\n",
    "y = np.sin(x)\n",
    "\n",
    "# Create a plot\n",
    "plt.figure(figsize=(10, 6))\n",
    "plt.plot(x, y, 'b-', linewidth=2, label='sin(x)')\n",
    "plt.xlabel('x')\n",
    "plt.ylabel('y')\n",
    "plt.title('Welcome to DataGators - Sample Plot')\n",
    "plt.legend()\n",
    "plt.grid(True, alpha=0.3)\n",
    "plt.show()\n",
    "\n",
    "print(\"Welcome to DataGators JupyterLite environment!\")\n",
    "print(\"You can copy and paste code from the tutorials here.\")"
   ]
  },
  {
   "cell_type": "markdown",
   "id": "551f40fb",
   "metadata": {},
   "source": [
    "## Next Steps\n",
    "\n",
    "- Copy code from the DataGators tutorials and paste it into new cells\n",
    "- Experiment with different data science libraries\n",
    "- Create your own analyses\n",
    "\n",
    "Happy coding! 🐊📊"
   ]
  }
 ],
 "metadata": {
  "language_info": {
   "name": "python"
  }
 },
 "nbformat": 4,
 "nbformat_minor": 5
}
